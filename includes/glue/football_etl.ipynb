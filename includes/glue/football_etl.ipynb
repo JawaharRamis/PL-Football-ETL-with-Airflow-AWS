{
 "cells": [
  {
   "cell_type": "code",
   "execution_count": 1,
   "id": "dc84df83-0ec4-4b32-a0c7-36682239e47c",
   "metadata": {},
   "outputs": [
    {
     "name": "stdout",
     "output_type": "stream",
     "text": [
      "Starting Spark application\n"
     ]
    },
    {
     "data": {
      "text/html": [
       "<table>\n",
       "<tr><th>ID</th><th>YARN Application ID</th><th>Kind</th><th>State</th><th>Spark UI</th><th>Driver log</th><th>User</th><th>Current session?</th></tr><tr><td>0</td><td>None</td><td>pyspark</td><td>idle</td><td></td><td></td><td>None</td><td>✔</td></tr></table>"
      ],
      "text/plain": [
       "<IPython.core.display.HTML object>"
      ]
     },
     "metadata": {},
     "output_type": "display_data"
    },
    {
     "data": {
      "application/vnd.jupyter.widget-view+json": {
       "model_id": "",
       "version_major": 2,
       "version_minor": 0
      },
      "text/plain": [
       "FloatProgress(value=0.0, bar_style='info', description='Progress:', layout=Layout(height='25px', width='50%'),…"
      ]
     },
     "metadata": {},
     "output_type": "display_data"
    },
    {
     "name": "stdout",
     "output_type": "stream",
     "text": [
      "SparkSession available as 'spark'.\n"
     ]
    },
    {
     "data": {
      "application/vnd.jupyter.widget-view+json": {
       "model_id": "",
       "version_major": 2,
       "version_minor": 0
      },
      "text/plain": [
       "FloatProgress(value=0.0, bar_style='info', description='Progress:', layout=Layout(height='25px', width='50%'),…"
      ]
     },
     "metadata": {},
     "output_type": "display_data"
    }
   ],
   "source": [
    "try:\n",
    "    import os, uuid, sys, boto3, time, sys\n",
    "    from pyspark.sql.functions import lit, udf\n",
    "    import sys\n",
    "    from pyspark.context import SparkContext\n",
    "    from pyspark.sql.session import SparkSession\n",
    "    from awsglue.transforms import *\n",
    "    from awsglue.utils import getResolvedOptions\n",
    "    from pyspark.context import SparkContext\n",
    "    from pyspark.sql.functions import col, explode, lit, concat\n",
    "    from awsglue.context import GlueContext\n",
    "    from awsglue.dynamicframe import DynamicFrame\n",
    "    from awsglue.job import Job\n",
    "except Exception as e:\n",
    "    print(\"Modules are missing : {} \".format(e))"
   ]
  },
  {
   "cell_type": "code",
   "execution_count": 2,
   "id": "7442b2a6-2781-4f7e-980f-4c1e82d4055a",
   "metadata": {},
   "outputs": [
    {
     "data": {
      "application/vnd.jupyter.widget-view+json": {
       "model_id": "",
       "version_major": 2,
       "version_minor": 0
      },
      "text/plain": [
       "FloatProgress(value=0.0, bar_style='info', description='Progress:', layout=Layout(height='25px', width='50%'),…"
      ]
     },
     "metadata": {},
     "output_type": "display_data"
    },
    {
     "name": "stdout",
     "output_type": "stream",
     "text": [
      "/home/glue_user/spark/python/pyspark/sql/context.py:112: FutureWarning: Deprecated in 3.0.0. Use SparkSession.builder.getOrCreate() instead.\n",
      "  warnings.warn("
     ]
    }
   ],
   "source": [
    "# Create a Spark context and Glue context\n",
    "sc = spark.sparkContext\n",
    "glueContext = GlueContext(sc)\n",
    "job = Job(glueContext)\n",
    "logger = glueContext.get_logger()"
   ]
  },
  {
   "cell_type": "code",
   "execution_count": 3,
   "id": "eba7bdab-030b-4163-b23b-55f992d5b20e",
   "metadata": {},
   "outputs": [
    {
     "data": {
      "application/vnd.jupyter.widget-view+json": {
       "model_id": "",
       "version_major": 2,
       "version_minor": 0
      },
      "text/plain": [
       "FloatProgress(value=0.0, bar_style='info', description='Progress:', layout=Layout(height='25px', width='50%'),…"
      ]
     },
     "metadata": {},
     "output_type": "display_data"
    }
   ],
   "source": [
    "## fixtures"
   ]
  },
  {
   "cell_type": "code",
   "execution_count": 123,
   "id": "6b68701b-9b43-4b95-b2eb-870b6104b793",
   "metadata": {},
   "outputs": [
    {
     "data": {
      "application/vnd.jupyter.widget-view+json": {
       "model_id": "",
       "version_major": 2,
       "version_minor": 0
      },
      "text/plain": [
       "FloatProgress(value=0.0, bar_style='info', description='Progress:', layout=Layout(height='25px', width='50%'),…"
      ]
     },
     "metadata": {},
     "output_type": "display_data"
    }
   ],
   "source": [
    "glue_df = glueContext.create_dynamic_frame.from_catalog(\n",
    "            database=\"football_db\",\n",
    "            table_name=\"fixtures\"\n",
    "        )"
   ]
  },
  {
   "cell_type": "code",
   "execution_count": 124,
   "id": "34175d90-fe3e-4629-9ea3-8fa46c00d86e",
   "metadata": {},
   "outputs": [
    {
     "data": {
      "application/vnd.jupyter.widget-view+json": {
       "model_id": "",
       "version_major": 2,
       "version_minor": 0
      },
      "text/plain": [
       "FloatProgress(value=0.0, bar_style='info', description='Progress:', layout=Layout(height='25px', width='50%'),…"
      ]
     },
     "metadata": {},
     "output_type": "display_data"
    }
   ],
   "source": [
    "fixtures_df = glue_df.toDF()\n",
    "fixtures_response_df = fixtures_df.select(\"response\")"
   ]
  },
  {
   "cell_type": "code",
   "execution_count": 125,
   "id": "49d84e20-bd67-4d21-b69c-de2a2e0f682b",
   "metadata": {},
   "outputs": [
    {
     "data": {
      "application/vnd.jupyter.widget-view+json": {
       "model_id": "",
       "version_major": 2,
       "version_minor": 0
      },
      "text/plain": [
       "FloatProgress(value=0.0, bar_style='info', description='Progress:', layout=Layout(height='25px', width='50%'),…"
      ]
     },
     "metadata": {},
     "output_type": "display_data"
    }
   ],
   "source": [
    "# Explode the array to create a new row for each JSON object in the array\n",
    "fixtures_exploded_df = fixtures_response_df.select(explode(\"response\").alias(\"fixture\"))"
   ]
  },
  {
   "cell_type": "code",
   "execution_count": 126,
   "id": "88cfd54d-37cc-4a5b-88ba-7422da291390",
   "metadata": {},
   "outputs": [
    {
     "data": {
      "application/vnd.jupyter.widget-view+json": {
       "model_id": "",
       "version_major": 2,
       "version_minor": 0
      },
      "text/plain": [
       "FloatProgress(value=0.0, bar_style='info', description='Progress:', layout=Layout(height='25px', width='50%'),…"
      ]
     },
     "metadata": {},
     "output_type": "display_data"
    }
   ],
   "source": [
    "fixtures_final_df = fixtures_exploded_df.select(\n",
    "    col(\"fixture.fixture.id\").alias(\"fixture_id\"),\n",
    "    col(\"fixture.fixture.referee\").alias(\"referee\"),\n",
    "    col(\"fixture.fixture.timezone\").alias(\"timezone\"),\n",
    "    col(\"fixture.fixture.date\").alias(\"date\"),\n",
    "    col(\"fixture.fixture.venue.name\").alias(\"Stadium\"),\n",
    "    col(\"fixture.teams.home.name\").alias(\"Home team\"),\n",
    "    col(\"fixture.teams.away.name\").alias(\"Away team\"),\n",
    ")"
   ]
  },
  {
   "cell_type": "code",
   "execution_count": 127,
   "id": "5cd90e60-3470-4ef9-8c80-ea2d008dbd18",
   "metadata": {},
   "outputs": [
    {
     "data": {
      "application/vnd.jupyter.widget-view+json": {
       "model_id": "",
       "version_major": 2,
       "version_minor": 0
      },
      "text/plain": [
       "FloatProgress(value=0.0, bar_style='info', description='Progress:', layout=Layout(height='25px', width='50%'),…"
      ]
     },
     "metadata": {},
     "output_type": "display_data"
    },
    {
     "name": "stdout",
     "output_type": "stream",
     "text": [
      "<awsglue.dynamicframe.DynamicFrame object at 0x7f3ca8f2f9a0>"
     ]
    }
   ],
   "source": [
    "fixtures_dynamic_frame = DynamicFrame.fromDF(fixtures_final_df, glueContext, \"fixtures_dynamic_frame\")\n",
    "\n",
    "# Specify the S3 output path where you want to store the CSV file\n",
    "output_path = \"s3://footballapi-data-bucket/processed/fixtures\"\n",
    "\n",
    "# Write the DynamicFrame to S3 as a CSV file\n",
    "glueContext.write_dynamic_frame.from_options(\n",
    "    frame = fixtures_dynamic_frame,\n",
    "    connection_type = \"s3\",\n",
    "    connection_options = {\"path\": output_path},\n",
    "    format = \"csv\",\n",
    "    format_options = {\"writeHeader\": True},\n",
    ")"
   ]
  },
  {
   "cell_type": "code",
   "execution_count": 128,
   "id": "6356f424-6db5-481f-b503-4e43ca9d2a71",
   "metadata": {},
   "outputs": [
    {
     "data": {
      "application/vnd.jupyter.widget-view+json": {
       "model_id": "",
       "version_major": 2,
       "version_minor": 0
      },
      "text/plain": [
       "FloatProgress(value=0.0, bar_style='info', description='Progress:', layout=Layout(height='25px', width='50%'),…"
      ]
     },
     "metadata": {},
     "output_type": "display_data"
    }
   ],
   "source": [
    "##results"
   ]
  },
  {
   "cell_type": "code",
   "execution_count": 129,
   "id": "cb54afcd-0cd1-4107-a907-15b19831096a",
   "metadata": {},
   "outputs": [
    {
     "data": {
      "application/vnd.jupyter.widget-view+json": {
       "model_id": "",
       "version_major": 2,
       "version_minor": 0
      },
      "text/plain": [
       "FloatProgress(value=0.0, bar_style='info', description='Progress:', layout=Layout(height='25px', width='50%'),…"
      ]
     },
     "metadata": {},
     "output_type": "display_data"
    }
   ],
   "source": [
    "glue_df = glueContext.create_dynamic_frame.from_catalog(\n",
    "            database=\"football_db\",\n",
    "            table_name=\"results\"\n",
    "        )"
   ]
  },
  {
   "cell_type": "code",
   "execution_count": 130,
   "id": "555d582f-66a5-474c-886e-cbabc4eb391e",
   "metadata": {},
   "outputs": [
    {
     "data": {
      "application/vnd.jupyter.widget-view+json": {
       "model_id": "",
       "version_major": 2,
       "version_minor": 0
      },
      "text/plain": [
       "FloatProgress(value=0.0, bar_style='info', description='Progress:', layout=Layout(height='25px', width='50%'),…"
      ]
     },
     "metadata": {},
     "output_type": "display_data"
    }
   ],
   "source": [
    "results_df = glue_df.toDF()\n",
    "results_response_df = results_df.select(\"response\")"
   ]
  },
  {
   "cell_type": "code",
   "execution_count": 131,
   "id": "619ecf34-9a76-449b-bde5-deda78b17723",
   "metadata": {},
   "outputs": [
    {
     "data": {
      "application/vnd.jupyter.widget-view+json": {
       "model_id": "",
       "version_major": 2,
       "version_minor": 0
      },
      "text/plain": [
       "FloatProgress(value=0.0, bar_style='info', description='Progress:', layout=Layout(height='25px', width='50%'),…"
      ]
     },
     "metadata": {},
     "output_type": "display_data"
    }
   ],
   "source": [
    "results_exploded_df = results_response_df.select(explode(\"response\").alias(\"results\"))"
   ]
  },
  {
   "cell_type": "code",
   "execution_count": 132,
   "id": "689cf7c7-1691-4735-828c-e5dc9aeb884f",
   "metadata": {},
   "outputs": [
    {
     "data": {
      "application/vnd.jupyter.widget-view+json": {
       "model_id": "",
       "version_major": 2,
       "version_minor": 0
      },
      "text/plain": [
       "FloatProgress(value=0.0, bar_style='info', description='Progress:', layout=Layout(height='25px', width='50%'),…"
      ]
     },
     "metadata": {},
     "output_type": "display_data"
    }
   ],
   "source": [
    "results_final_df = results_exploded_df.select(\n",
    "    col(\"results.fixture.id\").alias(\"fixture_id\"),\n",
    "    col(\"results.fixture.referee\").alias(\"referee\"),\n",
    "    col(\"results.fixture.timezone\").alias(\"timezone\"),\n",
    "    col(\"results.fixture.date\").alias(\"date\"),\n",
    "    col(\"results.fixture.venue.name\").alias(\"Stadium\"),\n",
    "    col(\"results.teams.home.name\").alias(\"Home team\"),\n",
    "    col(\"results.teams.away.name\").alias(\"Away team\"),\n",
    "    col(\"results.goals.home\").alias(\"Home goals\"),\n",
    "    col(\"results.goals.away\").alias(\"Away goals\"),\n",
    "    col(\"results.score.halftime.Home\").alias(\"Half time Home goals\"),\n",
    "    col(\"results.score.halftime.away\").alias(\"Half time Away goals\"),\n",
    ")\n",
    "columns_to_drop = [\"Home goals\",\"Away goals\", \"Half time Home goals\", \"Half time Away goals\"]\n",
    "results_final_df = results_final_df.withColumn(\"Full time score\", concat(col(\"Home goals\"), lit(\":\"), col(\"Away Goals\")))\n",
    "results_final_df = results_final_df.withColumn(\"Half time score\", concat(col(\"Half time Home goals\"), lit(\":\"), col(\"Half time Away goals\")))\n",
    "results_final_df = results_final_df.drop(*columns_to_drop)\n"
   ]
  },
  {
   "cell_type": "code",
   "execution_count": 133,
   "id": "29c5b7f2-ec13-4289-974a-aef208132762",
   "metadata": {},
   "outputs": [
    {
     "data": {
      "application/vnd.jupyter.widget-view+json": {
       "model_id": "",
       "version_major": 2,
       "version_minor": 0
      },
      "text/plain": [
       "FloatProgress(value=0.0, bar_style='info', description='Progress:', layout=Layout(height='25px', width='50%'),…"
      ]
     },
     "metadata": {},
     "output_type": "display_data"
    },
    {
     "name": "stdout",
     "output_type": "stream",
     "text": [
      "<awsglue.dynamicframe.DynamicFrame object at 0x7f3ca8f2d6c0>"
     ]
    }
   ],
   "source": [
    "results_dynamic_frame = DynamicFrame.fromDF(results_final_df, glueContext, \"results_dynamic_frame\")\n",
    "\n",
    "# Specify the S3 output path where you want to store the CSV file\n",
    "output_path = \"s3://footballapi-data-bucket/processed/results\"\n",
    "\n",
    "# Write the DynamicFrame to S3 as a CSV file\n",
    "glueContext.write_dynamic_frame.from_options(\n",
    "    frame = results_dynamic_frame,\n",
    "    connection_type = \"s3\",\n",
    "    connection_options = {\"path\": output_path},\n",
    "    format = \"csv\",\n",
    "    format_options = {\"writeHeader\": True},\n",
    ")"
   ]
  },
  {
   "cell_type": "code",
   "execution_count": 134,
   "id": "1c0f90fb-0b82-4dfb-825e-20f605d5360e",
   "metadata": {},
   "outputs": [
    {
     "data": {
      "application/vnd.jupyter.widget-view+json": {
       "model_id": "",
       "version_major": 2,
       "version_minor": 0
      },
      "text/plain": [
       "FloatProgress(value=0.0, bar_style='info', description='Progress:', layout=Layout(height='25px', width='50%'),…"
      ]
     },
     "metadata": {},
     "output_type": "display_data"
    }
   ],
   "source": [
    "##standings"
   ]
  },
  {
   "cell_type": "code",
   "execution_count": 135,
   "id": "db51b86c-d281-44de-9f01-bda3cac5153c",
   "metadata": {},
   "outputs": [
    {
     "data": {
      "application/vnd.jupyter.widget-view+json": {
       "model_id": "",
       "version_major": 2,
       "version_minor": 0
      },
      "text/plain": [
       "FloatProgress(value=0.0, bar_style='info', description='Progress:', layout=Layout(height='25px', width='50%'),…"
      ]
     },
     "metadata": {},
     "output_type": "display_data"
    }
   ],
   "source": [
    "glue_df = glueContext.create_dynamic_frame.from_catalog(\n",
    "            database=\"football_db\",\n",
    "            table_name=\"standings\"\n",
    "        )"
   ]
  },
  {
   "cell_type": "code",
   "execution_count": 136,
   "id": "612b24bf-3da9-4670-830a-082bb2ac053a",
   "metadata": {},
   "outputs": [
    {
     "data": {
      "application/vnd.jupyter.widget-view+json": {
       "model_id": "",
       "version_major": 2,
       "version_minor": 0
      },
      "text/plain": [
       "FloatProgress(value=0.0, bar_style='info', description='Progress:', layout=Layout(height='25px', width='50%'),…"
      ]
     },
     "metadata": {},
     "output_type": "display_data"
    }
   ],
   "source": [
    "standings_df = glue_df.toDF()\n",
    "standings_response_df = standings_df.select(\"response\")"
   ]
  },
  {
   "cell_type": "code",
   "execution_count": 137,
   "id": "75424fd8-e3e3-4b67-b5b5-23709f8d40aa",
   "metadata": {},
   "outputs": [
    {
     "data": {
      "application/vnd.jupyter.widget-view+json": {
       "model_id": "",
       "version_major": 2,
       "version_minor": 0
      },
      "text/plain": [
       "FloatProgress(value=0.0, bar_style='info', description='Progress:', layout=Layout(height='25px', width='50%'),…"
      ]
     },
     "metadata": {},
     "output_type": "display_data"
    }
   ],
   "source": [
    "# Explode the array to create a new row for each JSON object in the array\n",
    "standings_exploded_df = standings_response_df.select(explode(\"response.league.standings\").alias(\"standings\"))"
   ]
  },
  {
   "cell_type": "code",
   "execution_count": 138,
   "id": "7a13dcd4-2e8e-4244-a220-a9f9be12b858",
   "metadata": {},
   "outputs": [
    {
     "data": {
      "application/vnd.jupyter.widget-view+json": {
       "model_id": "",
       "version_major": 2,
       "version_minor": 0
      },
      "text/plain": [
       "FloatProgress(value=0.0, bar_style='info', description='Progress:', layout=Layout(height='25px', width='50%'),…"
      ]
     },
     "metadata": {},
     "output_type": "display_data"
    },
    {
     "name": "stdout",
     "output_type": "stream",
     "text": [
      "+--------------------+\n",
      "|           standings|\n",
      "+--------------------+\n",
      "|[[{1, {50, Manche...|\n",
      "+--------------------+"
     ]
    }
   ],
   "source": [
    "standings_exploded_df.show(truncate=True)"
   ]
  },
  {
   "cell_type": "code",
   "execution_count": 139,
   "id": "43d538b3-f975-4511-95b2-28dbbcb780ea",
   "metadata": {},
   "outputs": [
    {
     "data": {
      "application/vnd.jupyter.widget-view+json": {
       "model_id": "",
       "version_major": 2,
       "version_minor": 0
      },
      "text/plain": [
       "FloatProgress(value=0.0, bar_style='info', description='Progress:', layout=Layout(height='25px', width='50%'),…"
      ]
     },
     "metadata": {},
     "output_type": "display_data"
    },
    {
     "name": "stdout",
     "output_type": "stream",
     "text": [
      "+--------------------+\n",
      "|           standings|\n",
      "+--------------------+\n",
      "|{1, {50, Manchest...|\n",
      "|{2, {42, Arsenal,...|\n",
      "|{3, {47, Tottenha...|\n",
      "|{4, {40, Liverpoo...|\n",
      "|{5, {66, Aston Vi...|\n",
      "|{6, {33, Manchest...|\n",
      "|{7, {34, Newcastl...|\n",
      "|{8, {51, Brighton...|\n",
      "|{9, {55, Brentfor...|\n",
      "|{10, {49, Chelsea...|\n",
      "|{11, {39, Wolves,...|\n",
      "|{12, {52, Crystal...|\n",
      "|{13, {48, West Ha...|\n",
      "|{14, {45, Everton...|\n",
      "|{15, {65, Notting...|\n",
      "|{16, {36, Fulham,...|\n",
      "|{17, {35, Bournem...|\n",
      "|{18, {1359, Luton...|\n",
      "|{19, {44, Burnley...|\n",
      "|{20, {62, Sheffie...|\n",
      "+--------------------+"
     ]
    }
   ],
   "source": [
    "standings_exploded_df = standings_response_df.select(\n",
    "    explode(\"response.league.standings\").alias(\"league\"),\n",
    ").select(\n",
    "    explode(\"league\").alias(\"standings\")\n",
    ").select(\n",
    "    explode(\"standings\").alias(\"standings\")\n",
    ")"
   ]
  },
  {
   "cell_type": "code",
   "execution_count": 140,
   "id": "1ca104c7-6e4a-44e8-b135-4bb8dd1b96b3",
   "metadata": {},
   "outputs": [
    {
     "data": {
      "application/vnd.jupyter.widget-view+json": {
       "model_id": "",
       "version_major": 2,
       "version_minor": 0
      },
      "text/plain": [
       "FloatProgress(value=0.0, bar_style='info', description='Progress:', layout=Layout(height='25px', width='50%'),…"
      ]
     },
     "metadata": {},
     "output_type": "display_data"
    }
   ],
   "source": [
    "standings_final_df = standings_exploded_df.select(\n",
    "    col(\"standings.rank\").alias(\"League Position\"),\n",
    "    col(\"standings.team.name\").alias(\"Team\"),\n",
    "    col(\"standings.points\").alias(\"League Points\"),\n",
    "    col(\"standings.all.win\").alias(\"Wins\"),\n",
    "    col(\"standings.all.draw\").alias(\"Draws\"),\n",
    "    col(\"standings.all.lose\").alias(\"Loses\"),\n",
    "    col(\"standings.goalsDiff\").alias(\"Goal Difference\"),\n",
    "    col(\"standings.all.goals.for\").alias(\"Goals For\"),\n",
    "    col(\"standings.all.goals.against\").alias(\"Goals Against\"),\n",
    "    col(\"standings.form\").alias(\"Form\"),\n",
    "    col(\"standings.away.win\").alias(\"Away wins\"),\n",
    "    col(\"standings.home.lose\").alias(\"Home loses\"),    \n",
    ")"
   ]
  },
  {
   "cell_type": "code",
   "execution_count": 141,
   "id": "49855311-2ff4-4501-85e7-94b76ef75574",
   "metadata": {},
   "outputs": [
    {
     "data": {
      "application/vnd.jupyter.widget-view+json": {
       "model_id": "",
       "version_major": 2,
       "version_minor": 0
      },
      "text/plain": [
       "FloatProgress(value=0.0, bar_style='info', description='Progress:', layout=Layout(height='25px', width='50%'),…"
      ]
     },
     "metadata": {},
     "output_type": "display_data"
    },
    {
     "name": "stdout",
     "output_type": "stream",
     "text": [
      "<awsglue.dynamicframe.DynamicFrame object at 0x7f3ca8f440d0>"
     ]
    }
   ],
   "source": [
    "standings_dynamic_frame = DynamicFrame.fromDF(standings_final_df, glueContext, \"standings_dynamic_frame\")\n",
    "\n",
    "# Specify the S3 output path where you want to store the CSV file\n",
    "output_path = \"s3://footballapi-data-bucket/processed/standings\"\n",
    "\n",
    "# Write the DynamicFrame to S3 as a CSV file\n",
    "glueContext.write_dynamic_frame.from_options(\n",
    "    frame = standings_dynamic_frame,\n",
    "    connection_type = \"s3\",\n",
    "    connection_options = {\"path\": output_path},\n",
    "    format = \"csv\",\n",
    "    format_options = {\"writeHeader\": True},\n",
    ")"
   ]
  },
  {
   "cell_type": "code",
   "execution_count": 142,
   "id": "c2a50660-8aa5-4124-af4a-5eb95f171ac0",
   "metadata": {},
   "outputs": [
    {
     "data": {
      "application/vnd.jupyter.widget-view+json": {
       "model_id": "",
       "version_major": 2,
       "version_minor": 0
      },
      "text/plain": [
       "FloatProgress(value=0.0, bar_style='info', description='Progress:', layout=Layout(height='25px', width='50%'),…"
      ]
     },
     "metadata": {},
     "output_type": "display_data"
    }
   ],
   "source": [
    "job.commit()"
   ]
  },
  {
   "cell_type": "code",
   "execution_count": null,
   "id": "1943368b-c5b1-44fd-809e-67b9340c1d25",
   "metadata": {},
   "outputs": [],
   "source": [
    "##goal scorers"
   ]
  },
  {
   "cell_type": "code",
   "execution_count": null,
   "id": "b4b428ae-ae20-4d9e-9f12-de98b1920ba5",
   "metadata": {},
   "outputs": [
    {
     "data": {
      "application/vnd.jupyter.widget-view+json": {
       "model_id": "",
       "version_major": 2,
       "version_minor": 0
      },
      "text/plain": [
       "FloatProgress(value=0.0, bar_style='info', description='Progress:', layout=Layout(height='25px', width='50%'),…"
      ]
     },
     "metadata": {},
     "output_type": "display_data"
    }
   ],
   "source": [
    "glue_df = glueContext.create_dynamic_frame.from_catalog(\n",
    "            database=\"football_db\",\n",
    "            table_name=\"scorers\"\n",
    "        )"
   ]
  },
  {
   "cell_type": "code",
   "execution_count": 56,
   "id": "1c566ba0-fe9f-4665-bbcc-2afa53438c6b",
   "metadata": {},
   "outputs": [
    {
     "data": {
      "application/vnd.jupyter.widget-view+json": {
       "model_id": "",
       "version_major": 2,
       "version_minor": 0
      },
      "text/plain": [
       "FloatProgress(value=0.0, bar_style='info', description='Progress:', layout=Layout(height='25px', width='50%'),…"
      ]
     },
     "metadata": {},
     "output_type": "display_data"
    }
   ],
   "source": [
    "scorers_df = glue_df.toDF()\n",
    "scorers_response_df = scorers_df.select(\"response\")"
   ]
  },
  {
   "cell_type": "code",
   "execution_count": 63,
   "id": "b76ef178-0663-4ed1-a972-da364d0149af",
   "metadata": {},
   "outputs": [
    {
     "data": {
      "application/vnd.jupyter.widget-view+json": {
       "model_id": "",
       "version_major": 2,
       "version_minor": 0
      },
      "text/plain": [
       "FloatProgress(value=0.0, bar_style='info', description='Progress:', layout=Layout(height='25px', width='50%'),…"
      ]
     },
     "metadata": {},
     "output_type": "display_data"
    }
   ],
   "source": [
    "# Explode the array to create a new row for each JSON object in the array\n",
    "scorers_exploded_df = scorers_response_df.select(explode(\"response\").alias(\"topscorers\"))"
   ]
  },
  {
   "cell_type": "code",
   "execution_count": 64,
   "id": "82b48467-e404-47b9-bae0-eba49528ddab",
   "metadata": {},
   "outputs": [
    {
     "data": {
      "application/vnd.jupyter.widget-view+json": {
       "model_id": "",
       "version_major": 2,
       "version_minor": 0
      },
      "text/plain": [
       "FloatProgress(value=0.0, bar_style='info', description='Progress:', layout=Layout(height='25px', width='50%'),…"
      ]
     },
     "metadata": {},
     "output_type": "display_data"
    }
   ],
   "source": [
    "scorers_final_df = scorers_exploded_df.select(\n",
    "    col(\"topscorers.player.name\").alias(\"Name\"),\n",
    "    col(\"topscorers.statistics.goals.total\").alias(\"Goals scored\"),\n",
    "    col(\"topscorers.statistics.shots.on\").alias(\"Shots on Target\"),\n",
    "    col(\"topscorers.statistics.shots.total\").alias(\"Shots\"),\n",
    "    col(\"topscorers.statistics.penalty.scored\").alias(\"Penalties scored\"),\n",
    ")\n",
    "\n",
    "scorers_final_df = scorers_final_df.withColumn(\"Shots on Target\", col(\"Shots on Target\").getItem(0))\n",
    "scorers_final_df = scorers_final_df.withColumn(\"Goals scored\", col(\"Goals scored\").getItem(0))\n",
    "scorers_final_df = scorers_final_df.withColumn(\"Shots\", col(\"Shots\").getItem(0))\n",
    "scorers_final_df = scorers_final_df.withColumn(\"Penalties scored\", col(\"Penalties scored\").getItem(0))\n",
    "\n"
   ]
  },
  {
   "cell_type": "code",
   "execution_count": 66,
   "id": "a895fe7e-4970-4e14-8d2e-acc871ed638b",
   "metadata": {},
   "outputs": [
    {
     "data": {
      "application/vnd.jupyter.widget-view+json": {
       "model_id": "",
       "version_major": 2,
       "version_minor": 0
      },
      "text/plain": [
       "FloatProgress(value=0.0, bar_style='info', description='Progress:', layout=Layout(height='25px', width='50%'),…"
      ]
     },
     "metadata": {},
     "output_type": "display_data"
    },
    {
     "name": "stdout",
     "output_type": "stream",
     "text": [
      "<awsglue.dynamicframe.DynamicFrame object at 0x7f816736a050>"
     ]
    }
   ],
   "source": [
    "scorers_dynamic_frame = DynamicFrame.fromDF(scorers_final_df, glueContext, \"scorers_dynamic_frame\")\n",
    "\n",
    "# Specify the S3 output path where you want to store the CSV file\n",
    "output_path = \"s3://footballapi-data-bucket/processed/scorers\"\n",
    "\n",
    "# Write the DynamicFrame to S3 as a CSV file\n",
    "glueContext.write_dynamic_frame.from_options(\n",
    "    frame = scorers_dynamic_frame,\n",
    "    connection_type = \"s3\",\n",
    "    connection_options = {\"path\": output_path},\n",
    "    format = \"csv\",\n",
    "    format_options = {\"writeHeader\": True},\n",
    ")"
   ]
  },
  {
   "cell_type": "code",
   "execution_count": 49,
   "id": "dc098b08-bca3-414d-bac3-e144755d5a6e",
   "metadata": {},
   "outputs": [
    {
     "data": {
      "application/vnd.jupyter.widget-view+json": {
       "model_id": "",
       "version_major": 2,
       "version_minor": 0
      },
      "text/plain": [
       "FloatProgress(value=0.0, bar_style='info', description='Progress:', layout=Layout(height='25px', width='50%'),…"
      ]
     },
     "metadata": {},
     "output_type": "display_data"
    }
   ],
   "source": [
    "##assists"
   ]
  },
  {
   "cell_type": "code",
   "execution_count": 67,
   "id": "67e409e8-7186-405b-929e-b177e814875d",
   "metadata": {},
   "outputs": [
    {
     "data": {
      "application/vnd.jupyter.widget-view+json": {
       "model_id": "",
       "version_major": 2,
       "version_minor": 0
      },
      "text/plain": [
       "FloatProgress(value=0.0, bar_style='info', description='Progress:', layout=Layout(height='25px', width='50%'),…"
      ]
     },
     "metadata": {},
     "output_type": "display_data"
    }
   ],
   "source": [
    "glue_df = glueContext.create_dynamic_frame.from_catalog(\n",
    "            database=\"football_db\",\n",
    "            table_name=\"assists\"\n",
    "        )"
   ]
  },
  {
   "cell_type": "code",
   "execution_count": 68,
   "id": "f730929e-f05e-4e2d-af55-5e819563d9d5",
   "metadata": {},
   "outputs": [
    {
     "data": {
      "application/vnd.jupyter.widget-view+json": {
       "model_id": "",
       "version_major": 2,
       "version_minor": 0
      },
      "text/plain": [
       "FloatProgress(value=0.0, bar_style='info', description='Progress:', layout=Layout(height='25px', width='50%'),…"
      ]
     },
     "metadata": {},
     "output_type": "display_data"
    }
   ],
   "source": [
    "assists_df = glue_df.toDF()\n",
    "assists_response_df = assists_df.select(\"response\")"
   ]
  },
  {
   "cell_type": "code",
   "execution_count": 73,
   "id": "1c501188-22bb-4c5a-8482-931283b2d428",
   "metadata": {},
   "outputs": [
    {
     "data": {
      "application/vnd.jupyter.widget-view+json": {
       "model_id": "",
       "version_major": 2,
       "version_minor": 0
      },
      "text/plain": [
       "FloatProgress(value=0.0, bar_style='info', description='Progress:', layout=Layout(height='25px', width='50%'),…"
      ]
     },
     "metadata": {},
     "output_type": "display_data"
    }
   ],
   "source": [
    "# Explode the array to create a new row for each JSON object in the array\n",
    "assists_exploded_df = assists_response_df.select(explode(\"response\").alias(\"assists\"))"
   ]
  },
  {
   "cell_type": "code",
   "execution_count": 79,
   "id": "860864ec-fae5-4963-8e31-3bf54e986d64",
   "metadata": {},
   "outputs": [
    {
     "data": {
      "application/vnd.jupyter.widget-view+json": {
       "model_id": "",
       "version_major": 2,
       "version_minor": 0
      },
      "text/plain": [
       "FloatProgress(value=0.0, bar_style='info', description='Progress:', layout=Layout(height='25px', width='50%'),…"
      ]
     },
     "metadata": {},
     "output_type": "display_data"
    }
   ],
   "source": [
    "assists_final_df = assists_exploded_df.select(\n",
    "    col(\"assists.player.name\").alias(\"Name\"),\n",
    "    col(\"assists.statistics.goals.assists\").alias(\"Assists\"),\n",
    "    col(\"assists.statistics.passes.key\").alias(\"Key Passes\"),\n",
    "    col(\"assists.statistics.shots.on\").alias(\"Shots on Target\"),\n",
    "    col(\"assists.statistics.passes.total\").alias(\"Total successfull passes\"),\n",
    ")\n",
    "assists_final_df = assists_final_df.withColumn(\"Assists\", col(\"Assists\").getItem(0))\n",
    "assists_final_df = assists_final_df.withColumn(\"Key Passes\", col(\"Key Passes\").getItem(0))\n",
    "assists_final_df = assists_final_df.withColumn(\"Shots on Target\", col(\"Shots on Target\").getItem(0))\n",
    "assists_final_df = assists_final_df.withColumn(\"Total successfull passes\", col(\"Total successfull passes\").getItem(0))\n"
   ]
  },
  {
   "cell_type": "code",
   "execution_count": 81,
   "id": "91e111f3-bfd1-4eb1-87be-ab0aeea62384",
   "metadata": {},
   "outputs": [
    {
     "data": {
      "application/vnd.jupyter.widget-view+json": {
       "model_id": "",
       "version_major": 2,
       "version_minor": 0
      },
      "text/plain": [
       "FloatProgress(value=0.0, bar_style='info', description='Progress:', layout=Layout(height='25px', width='50%'),…"
      ]
     },
     "metadata": {},
     "output_type": "display_data"
    },
    {
     "name": "stdout",
     "output_type": "stream",
     "text": [
      "<awsglue.dynamicframe.DynamicFrame object at 0x7f816736a3b0>"
     ]
    }
   ],
   "source": [
    "assists_dynamic_frame = DynamicFrame.fromDF(assists_final_df, glueContext, \"assists_dynamic_frame\")\n",
    "\n",
    "# Specify the S3 output path where you want to store the CSV file\n",
    "output_path = \"s3://footballapi-data-bucket/processed/assists\"\n",
    "\n",
    "# Write the DynamicFrame to S3 as a CSV file\n",
    "glueContext.write_dynamic_frame.from_options(\n",
    "    frame = assists_dynamic_frame,\n",
    "    connection_type = \"s3\",\n",
    "    connection_options = {\"path\": output_path},\n",
    "    format = \"csv\",\n",
    "    format_options = {\"writeHeader\": True},\n",
    ")"
   ]
  },
  {
   "cell_type": "code",
   "execution_count": 82,
   "id": "0858d844-0fc9-488a-aac2-6b02a99f7bd8",
   "metadata": {},
   "outputs": [
    {
     "data": {
      "application/vnd.jupyter.widget-view+json": {
       "model_id": "",
       "version_major": 2,
       "version_minor": 0
      },
      "text/plain": [
       "FloatProgress(value=0.0, bar_style='info', description='Progress:', layout=Layout(height='25px', width='50%'),…"
      ]
     },
     "metadata": {},
     "output_type": "display_data"
    }
   ],
   "source": [
    "job.commit()"
   ]
  },
  {
   "cell_type": "code",
   "execution_count": null,
   "id": "a0a3ef8d-86f3-494a-875c-229c95dc6130",
   "metadata": {},
   "outputs": [],
   "source": []
  }
 ],
 "metadata": {
  "kernelspec": {
   "display_name": "PySpark",
   "language": "python",
   "name": "pysparkkernel"
  },
  "language_info": {
   "codemirror_mode": {
    "name": "python",
    "version": 3
   },
   "file_extension": ".py",
   "mimetype": "text/x-python",
   "name": "pyspark",
   "pygments_lexer": "python3"
  }
 },
 "nbformat": 4,
 "nbformat_minor": 5
}
